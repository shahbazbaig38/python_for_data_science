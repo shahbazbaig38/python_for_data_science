{
 "cells": [
  {
   "cell_type": "markdown",
   "metadata": {},
   "source": [
    "# Basics of Python\n",
    "We will learn basics of Python in this notebook by using Python 3.12\n",
    "### Operators in Python"
   ]
  },
  {
   "cell_type": "code",
   "execution_count": 3,
   "metadata": {},
   "outputs": [
    {
     "name": "stdout",
     "output_type": "stream",
     "text": [
      "7\n"
     ]
    }
   ],
   "source": [
    "print(3 + 4)   # Integer numbers"
   ]
  },
  {
   "cell_type": "code",
   "execution_count": 5,
   "metadata": {},
   "outputs": [
    {
     "name": "stdout",
     "output_type": "stream",
     "text": [
      "4.7\n"
     ]
    }
   ],
   "source": [
    "print(3.5 + 1.2)   # Float point numbers"
   ]
  },
  {
   "cell_type": "code",
   "execution_count": 9,
   "metadata": {},
   "outputs": [
    {
     "name": "stdout",
     "output_type": "stream",
     "text": [
      "[1, 2, 3]\n",
      "[4, 5, 6]\n",
      "[1, 2, 3, 4, 5, 6]\n",
      "False\n",
      "True\n"
     ]
    }
   ],
   "source": [
    "a = [1, 2, 3]  # list of integers\n",
    "b = [4, 5, 6]\n",
    "c = [4, 5, 6]\n",
    "print(a)\n",
    "print(b)\n",
    "print(a + b) # concatenating lists\n",
    "print(a==b) # checking equality of lists in Boolean values\n",
    "print(b==c)"
   ]
  },
  {
   "cell_type": "code",
   "execution_count": 30,
   "metadata": {},
   "outputs": [
    {
     "name": "stdout",
     "output_type": "stream",
     "text": [
      "19\n",
      "<class 'int'>\n",
      "11\n",
      "9.5\n",
      "60\n",
      "3.75\n",
      "3\n",
      "12.5\n",
      "True\n",
      "False\n",
      "False\n",
      "True\n",
      "True\n",
      "False\n",
      "False\n",
      "True\n",
      "True\n",
      "False\n",
      "False\n",
      "False\n",
      "False\n",
      "True\n",
      "True\n",
      "False\n",
      "True\n",
      "True\n",
      "False\n",
      "True\n",
      "True\n",
      "False\n",
      "True\n",
      "False\n",
      "True\n"
     ]
    }
   ],
   "source": [
    "x = 15\n",
    "y = 4\n",
    "z = 5.5\n",
    "\n",
    "# Addition\n",
    "print(x + y)\n",
    "print(type(x+y)) # addition is an operation between two numbers, so the result will be a number too!\n",
    "\n",
    "# Subtraction\n",
    "print(x - y)\n",
    "print(x - z)  # Float value\n",
    "\n",
    "# Multiplication\n",
    "print(x * y)\n",
    "\n",
    "# Division\n",
    "print(x / y)\n",
    "\n",
    "# Modulus\n",
    "print(x % y)\n",
    "\n",
    "print(x - z * 4 / y + 3)  # compound expression using BODMAS which is default for Python\n",
    "\n",
    "# Comparison operators\n",
    "print(x > y)\n",
    "\n",
    "print(x < y)\n",
    "\n",
    "print(x == y)\n",
    "\n",
    "print(x != y)\n",
    "\n",
    "print(x >= y)\n",
    "\n",
    "print(x <= y)\n",
    "\n",
    "print(x == z)\n",
    "\n",
    "print(x != z)\n",
    "\n",
    "# Boolean values\n",
    "\n",
    "print(True)\n",
    "\n",
    "print(False)\n",
    "\n",
    "# Logical operators\n",
    "\n",
    "print(x > y and x < z)\n",
    "print(True and False)\n",
    "\n",
    "print(False and True)\n",
    "\n",
    "print(True or False)\n",
    "\n",
    "print(False or True)\n",
    "\n",
    "print(not True)\n",
    "\n",
    "print(not False)\n",
    "\n",
    "print(not 0)\n",
    "\n",
    "print(not 1)\n",
    "\n",
    "print(not '')\n",
    "\n",
    "print(not None)\n",
    "\n",
    "# Identity operators\n",
    "\n",
    "print(x is y)\n",
    "\n",
    "print(x is not y)\n",
    "\n",
    "# Membership operators\n",
    "\n",
    "print('a' in 'Python')\n",
    "\n",
    "print('a' not in 'Python')\n"
   ]
  },
  {
   "cell_type": "code",
   "execution_count": 19,
   "metadata": {},
   "outputs": [
    {
     "name": "stdout",
     "output_type": "stream",
     "text": [
      "Hello World!\n",
      "Hello World!\n",
      "Hello\n",
      "      World!\n",
      "HelloPython\n",
      "Hello Python\n",
      "Hello Python\n"
     ]
    }
   ],
   "source": [
    "# Printing strings\n",
    "print('Hello World!')  # using single quotes\n",
    "print(\"Hello World!\")  # using double quotes\n",
    "print('''Hello\n",
    "      World!''')   # using triple quotes\n",
    "a = \"Hello\"\n",
    "b = \"Python\"\n",
    "print(a + b) # concatenating with +\n",
    "print(a + \" \" + b)      # concatenating with + by giving extra space\n",
    "print(\"{} {}\".format(a, b))    # formatting the string"
   ]
  },
  {
   "cell_type": "markdown",
   "metadata": {},
   "source": [
    "### Variables in Python\n",
    "\n",
    "Variable are used to perform calculations, import and export data and for defining data. \n",
    "### Good practices for naming variables\n",
    "- Always use small letters\n",
    "- Avoid using python keywords as variable names\n",
    "- Do not use spaces\n",
    "- Use underscores between words if needed (snake_case)\n",
    "- Do not use special letters\n",
    "- Keep it short but descriptive\n",
    "- Do not use capital letters between names\n",
    "- Do not use numbers at beginning"
   ]
  },
  {
   "cell_type": "code",
   "execution_count": 11,
   "metadata": {},
   "outputs": [
    {
     "name": "stdout",
     "output_type": "stream",
     "text": [
      "5\n",
      "This is string\n"
     ]
    }
   ],
   "source": [
    "a = 5\n",
    "print(a)\n",
    "str = \"This is string\"\n",
    "print(str)"
   ]
  },
  {
   "cell_type": "markdown",
   "metadata": {},
   "source": [
    "### Data Types in Python"
   ]
  },
  {
   "cell_type": "code",
   "execution_count": 31,
   "metadata": {},
   "outputs": [
    {
     "name": "stdout",
     "output_type": "stream",
     "text": [
      "5\n",
      "5.5\n",
      "Hello\n",
      "True\n",
      "[1, 2, 3]\n",
      "(1, 2, 3)\n",
      "{'a': 1, 'b': 2}\n",
      "{1, 2, 3}\n",
      "None\n"
     ]
    }
   ],
   "source": [
    "# data types\n",
    "# integers\n",
    "print(5)\n",
    "# floats\n",
    "print(5.5)\n",
    "# strings\n",
    "print(\"Hello\")\n",
    "# boolean\n",
    "print(True)\n",
    "# lists\n",
    "print([1, 2, 3])\n",
    "# tuples\n",
    "print((1, 2, 3))\n",
    "# dictionaries\n",
    "print({'a': 1, 'b': 2})\n",
    "# sets\n",
    "print({1, 2, 3})\n",
    "# None\n",
    "print(None)\n"
   ]
  },
  {
   "cell_type": "markdown",
   "metadata": {},
   "source": [
    "### Indentation and IF condition in Python"
   ]
  },
  {
   "cell_type": "code",
   "execution_count": 36,
   "metadata": {},
   "outputs": [
    {
     "name": "stdout",
     "output_type": "stream",
     "text": [
      "a is less than b\n",
      "c is greater than b\n"
     ]
    }
   ],
   "source": [
    "a = 5\n",
    "b = 15\n",
    "c = 20.5\n",
    "\n",
    "if a < b:\n",
    "    print(\"a is less than b\")\n",
    "\n",
    "if c < b:\n",
    "    print(\"c is less than b\")\n",
    "else:\n",
    "    print(\"c is greater than b\")"
   ]
  },
  {
   "cell_type": "markdown",
   "metadata": {},
   "source": [
    "### BMI Calculator"
   ]
  },
  {
   "cell_type": "code",
   "execution_count": null,
   "metadata": {},
   "outputs": [],
   "source": [
    "# run this program by copying below code into separate .py file\n",
    "# Create a BMI calculator\n",
    "name = input(\"Enter your name: \")\n",
    "height = float(input(\"Enter your height in meters: \"))\n",
    "weight = float(input(\"Enter your weight in kilograms: \"))\n",
    "bmi_calc = round((weight / (height ** 2)),1) # Calculate the bmi using formula. Round to one decimal place\n",
    "print(name + \"your BMI index is \" + bmi_calc)"
   ]
  },
  {
   "cell_type": "markdown",
   "metadata": {},
   "source": [
    "### Flow control statements"
   ]
  },
  {
   "cell_type": "code",
   "execution_count": 7,
   "metadata": {},
   "outputs": [
    {
     "name": "stdout",
     "output_type": "stream",
     "text": [
      "0\n",
      "1\n",
      "2\n",
      "3\n",
      "4\n",
      "Output of While Loop\n",
      "0\n",
      "1\n",
      "2\n",
      "3\n",
      "4\n",
      "x is less than or equal to 10\n",
      "Both x and y are greater than 0\n",
      "0 0\n",
      "0 1\n",
      "0 2\n",
      "0 3\n",
      "0 4\n",
      "1 0\n",
      "1 1\n",
      "1 2\n",
      "1 3\n",
      "1 4\n",
      "2 0\n",
      "2 1\n",
      "2 2\n",
      "2 3\n",
      "2 4\n",
      "3 0\n",
      "3 1\n",
      "3 2\n",
      "3 3\n",
      "3 4\n",
      "4 0\n",
      "4 1\n",
      "4 2\n",
      "4 3\n",
      "4 4\n",
      "0 0\n",
      "0 1\n",
      "0 2\n",
      "0 3\n",
      "0 4\n",
      "1 0\n",
      "1 1\n",
      "1 2\n",
      "1 3\n",
      "1 4\n",
      "2 0\n",
      "2 1\n",
      "2 2\n",
      "2 3\n",
      "2 4\n",
      "3 0\n",
      "3 1\n",
      "3 2\n",
      "3 3\n",
      "3 4\n",
      "4 0\n",
      "4 1\n",
      "4 2\n",
      "4 3\n",
      "4 4\n"
     ]
    }
   ],
   "source": [
    "# for loop in python \n",
    "for i in range(5):\n",
    "    print(i)\n",
    "\n",
    "# while loop in python\n",
    "print(\"Output of While Loop\")\n",
    "i = 0\n",
    "while i < 5:\n",
    "    print(i)\n",
    "    i += 1\n",
    "\n",
    "# if else statement\n",
    "x = 5\n",
    "\n",
    "if x > 10:\n",
    "    print(\"x is greater than 10\")\n",
    "else:\n",
    "    print(\"x is less than or equal to 10\")\n",
    "\n",
    "# nested if else statement\n",
    "x = 5\n",
    "y = 10\n",
    "\n",
    "if x > 0:\n",
    "    if y > 0:\n",
    "        print(\"Both x and y are greater than 0\")\n",
    "    else:\n",
    "        print(\"x is greater than 0 but y is not\")\n",
    "else:\n",
    "    print(\"x is less than or equal to 0\")\n",
    "\n",
    "# nested for loop \n",
    "for i in range(5):\n",
    "    for j in range(5):\n",
    "        print(i, j)\n",
    "\n",
    "# nested while loop\n",
    "i = 0\n",
    "while i < 5:\n",
    "    j = 0\n",
    "    while j < 5:\n",
    "        print(i, j)\n",
    "        j += 1\n",
    "    i += 1\n",
    "\n"
   ]
  },
  {
   "cell_type": "code",
   "execution_count": 1,
   "metadata": {},
   "outputs": [
    {
     "name": "stdout",
     "output_type": "stream",
     "text": [
      "True\n",
      "False\n",
      "True\n",
      "False\n",
      "False\n",
      "True\n"
     ]
    }
   ],
   "source": [
    "# examples of comparison operators \n",
    "# >, <, >=, <=, ==, !=\n",
    "print(10 > 9) # True\n",
    "print(10 < 9) # False\n",
    "print(10 >= 9) # True\n",
    "print(10 <= 9) # False\n",
    "print(10 == 9) # False\n",
    "print(10 != 9) # True\n"
   ]
  },
  {
   "cell_type": "markdown",
   "metadata": {},
   "source": [
    "### Python Functions"
   ]
  },
  {
   "cell_type": "code",
   "execution_count": 3,
   "metadata": {},
   "outputs": [
    {
     "name": "stdout",
     "output_type": "stream",
     "text": [
      "Hello, Shahbaz!\n",
      "Hello, Shahbaz!\n"
     ]
    }
   ],
   "source": [
    "# Python functions \n",
    "def greet(name):\n",
    "    \"\"\"This function greets the user with their name\"\"\"\n",
    "    print(\"Hello, \" + name + \"!\")\n",
    "    print(f\"Hello, {name}!\") # using f-string\n",
    "\n",
    "greet(\"Shahbaz\")"
   ]
  },
  {
   "cell_type": "code",
   "execution_count": 6,
   "metadata": {},
   "outputs": [
    {
     "name": "stdout",
     "output_type": "stream",
     "text": [
      "Square value is 4\n"
     ]
    }
   ],
   "source": [
    "# a function to calculate square of a number \n",
    "def square(x):\n",
    "    return x * x\n",
    "print(\"Square value is\",square(2))"
   ]
  },
  {
   "cell_type": "code",
   "execution_count": 10,
   "metadata": {},
   "outputs": [
    {
     "name": "stdout",
     "output_type": "stream",
     "text": [
      "Factorial of 5 is 120\n"
     ]
    }
   ],
   "source": [
    "# factorial function to demonstrate recursion \n",
    "def factorial(n):\n",
    "    if n == 1:\n",
    "        return 1\n",
    "    else:\n",
    "        return n * factorial(n-1)\n",
    "print(\"Factorial of 5 is\", factorial(5))\n"
   ]
  },
  {
   "cell_type": "code",
   "execution_count": 15,
   "metadata": {},
   "outputs": [
    {
     "name": "stdout",
     "output_type": "stream",
     "text": [
      "Factorial of 5 is 120\n"
     ]
    }
   ],
   "source": [
    "# lambda function to calculate factorial \n",
    "factorial = lambda n: 1 if n == 1 else n * factorial(n-1)\n",
    "print(\"Factorial of 5 is\", factorial(5))"
   ]
  }
 ],
 "metadata": {
  "kernelspec": {
   "display_name": "Python 3",
   "language": "python",
   "name": "python3"
  },
  "language_info": {
   "codemirror_mode": {
    "name": "ipython",
    "version": 3
   },
   "file_extension": ".py",
   "mimetype": "text/x-python",
   "name": "python",
   "nbconvert_exporter": "python",
   "pygments_lexer": "ipython3",
   "version": "3.12.0"
  },
  "orig_nbformat": 4
 },
 "nbformat": 4,
 "nbformat_minor": 2
}
